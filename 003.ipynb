{
 "cells": [
  {
   "cell_type": "code",
   "execution_count": 1,
   "metadata": {},
   "outputs": [
    {
     "name": "stdout",
     "output_type": "stream",
     "text": [
      "/home/jovyan\n",
      "Requirement already satisfied: opencv-python in /opt/conda/lib/python3.7/site-packages (4.1.0.25)\n",
      "Requirement already satisfied: numpy>=1.14.5 in /opt/conda/lib/python3.7/site-packages (from opencv-python) (1.15.4)\n",
      "Variable   Type       Data/Info\n",
      "-------------------------------\n",
      "cv2        module     <module 'cv2.cv2' from '/<...>37m-x86_64-linux-gnu.so'>\n",
      "img        ndarray    128x128x3: 49152 elems, type `uint8`, 49152 bytes\n",
      "np         module     <module 'numpy' from '/op<...>kages/numpy/__init__.py'>\n",
      "plt        module     <module 'matplotlib.pyplo<...>es/matplotlib/pyplot.py'>\n"
     ]
    }
   ],
   "source": [
    "%cd\n",
    "!pip install opencv-python\n",
    "\n",
    "import cv2\n",
    "import numpy as np\n",
    "import matplotlib.pyplot as plt\n",
    "img = cv2.imread(\"画像処理100/imori.jpg\")\n",
    "\n",
    "%whos"
   ]
  },
  {
   "cell_type": "code",
   "execution_count": 4,
   "metadata": {},
   "outputs": [],
   "source": [
    "# extract 'red' and 'green' and 'blue'\n",
    "r = img[:,:,2]\n",
    "g = img[:,:,1]\n",
    "b = img[:,:,0]\n",
    "\n",
    "# grayscale\n",
    "y = 0.2126 * r + 0.7152 * g + 0.0722 * b\n",
    "\n",
    "y[y <= 128] = 0\n",
    "y[y >  128] = 255\n",
    "\n",
    "img2 = y.astype(np.uint8)"
   ]
  },
  {
   "cell_type": "code",
   "execution_count": 5,
   "metadata": {},
   "outputs": [
    {
     "data": {
      "text/plain": [
       "<matplotlib.image.AxesImage at 0x7f62781b38d0>"
      ]
     },
     "execution_count": 5,
     "metadata": {},
     "output_type": "execute_result"
    },
    {
     "data": {
      "image/png": "[encoded data removed]",
      "text/plain": [
       "<Figure size 432x288 with 1 Axes>"
      ]
     },
     "metadata": {
      "needs_background": "light"
     },
     "output_type": "display_data"
    }
   ],
   "source": [
    "plt.imshow(cv2.cvtColor(img2, cv2.COLOR_BGR2RGB))"
   ]
  },
  {
   "cell_type": "code",
   "execution_count": null,
   "metadata": {},
   "outputs": [],
   "source": []
  }
 ],
 "metadata": {
  "kernelspec": {
   "display_name": "Python 3",
   "language": "python",
   "name": "python3"
  },
  "language_info": {
   "codemirror_mode": {
    "name": "ipython",
    "version": 3
   },
   "file_extension": ".py",
   "mimetype": "text/x-python",
   "name": "python",
   "nbconvert_exporter": "python",
   "pygments_lexer": "ipython3",
   "version": "3.7.3"
  }
 },
 "nbformat": 4,
 "nbformat_minor": 2
}
